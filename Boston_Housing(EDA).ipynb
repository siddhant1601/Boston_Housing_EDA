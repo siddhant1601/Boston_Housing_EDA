{
 "cells": [
  {
   "cell_type": "markdown",
   "id": "a9486aaf",
   "metadata": {},
   "source": [
    "# IMPORTING LIBRARIES"
   ]
  },
  {
   "cell_type": "code",
   "execution_count": 25,
   "id": "b5262557",
   "metadata": {},
   "outputs": [],
   "source": [
    "import pandas as pd \n",
    "import numpy as np"
   ]
  },
  {
   "cell_type": "markdown",
   "id": "6c6331fd",
   "metadata": {},
   "source": [
    "# DATA LOADING"
   ]
  },
  {
   "cell_type": "markdown",
   "id": "b5ee01c8",
   "metadata": {},
   "source": [
    "***Loading Boston Housing dataset and displaying first 5 rows***"
   ]
  },
  {
   "cell_type": "code",
   "execution_count": 2,
   "id": "d472cd85",
   "metadata": {},
   "outputs": [],
   "source": [
    "data = pd.read_csv(\"C:/Users/HP/Desktop/BostonHousing.csv\")"
   ]
  },
  {
   "cell_type": "code",
   "execution_count": 3,
   "id": "54d7a2a0",
   "metadata": {},
   "outputs": [
    {
     "data": {
      "text/html": [
       "<div>\n",
       "<style scoped>\n",
       "    .dataframe tbody tr th:only-of-type {\n",
       "        vertical-align: middle;\n",
       "    }\n",
       "\n",
       "    .dataframe tbody tr th {\n",
       "        vertical-align: top;\n",
       "    }\n",
       "\n",
       "    .dataframe thead th {\n",
       "        text-align: right;\n",
       "    }\n",
       "</style>\n",
       "<table border=\"1\" class=\"dataframe\">\n",
       "  <thead>\n",
       "    <tr style=\"text-align: right;\">\n",
       "      <th></th>\n",
       "      <th>crim</th>\n",
       "      <th>zn</th>\n",
       "      <th>indus</th>\n",
       "      <th>chas</th>\n",
       "      <th>nox</th>\n",
       "      <th>rm</th>\n",
       "      <th>age</th>\n",
       "      <th>dis</th>\n",
       "      <th>rad</th>\n",
       "      <th>tax</th>\n",
       "      <th>ptratio</th>\n",
       "      <th>b</th>\n",
       "      <th>lstat</th>\n",
       "      <th>medv</th>\n",
       "    </tr>\n",
       "  </thead>\n",
       "  <tbody>\n",
       "    <tr>\n",
       "      <th>0</th>\n",
       "      <td>0.00632</td>\n",
       "      <td>18.0</td>\n",
       "      <td>2.31</td>\n",
       "      <td>0</td>\n",
       "      <td>0.538</td>\n",
       "      <td>6.575</td>\n",
       "      <td>65.2</td>\n",
       "      <td>4.0900</td>\n",
       "      <td>1</td>\n",
       "      <td>296</td>\n",
       "      <td>15.3</td>\n",
       "      <td>396.90</td>\n",
       "      <td>4.98</td>\n",
       "      <td>24.0</td>\n",
       "    </tr>\n",
       "    <tr>\n",
       "      <th>1</th>\n",
       "      <td>0.02731</td>\n",
       "      <td>0.0</td>\n",
       "      <td>7.07</td>\n",
       "      <td>0</td>\n",
       "      <td>0.469</td>\n",
       "      <td>6.421</td>\n",
       "      <td>78.9</td>\n",
       "      <td>4.9671</td>\n",
       "      <td>2</td>\n",
       "      <td>242</td>\n",
       "      <td>17.8</td>\n",
       "      <td>396.90</td>\n",
       "      <td>9.14</td>\n",
       "      <td>21.6</td>\n",
       "    </tr>\n",
       "    <tr>\n",
       "      <th>2</th>\n",
       "      <td>0.02729</td>\n",
       "      <td>0.0</td>\n",
       "      <td>7.07</td>\n",
       "      <td>0</td>\n",
       "      <td>0.469</td>\n",
       "      <td>7.185</td>\n",
       "      <td>61.1</td>\n",
       "      <td>4.9671</td>\n",
       "      <td>2</td>\n",
       "      <td>242</td>\n",
       "      <td>17.8</td>\n",
       "      <td>392.83</td>\n",
       "      <td>4.03</td>\n",
       "      <td>34.7</td>\n",
       "    </tr>\n",
       "    <tr>\n",
       "      <th>3</th>\n",
       "      <td>0.03237</td>\n",
       "      <td>0.0</td>\n",
       "      <td>2.18</td>\n",
       "      <td>0</td>\n",
       "      <td>0.458</td>\n",
       "      <td>6.998</td>\n",
       "      <td>45.8</td>\n",
       "      <td>6.0622</td>\n",
       "      <td>3</td>\n",
       "      <td>222</td>\n",
       "      <td>18.7</td>\n",
       "      <td>394.63</td>\n",
       "      <td>2.94</td>\n",
       "      <td>33.4</td>\n",
       "    </tr>\n",
       "    <tr>\n",
       "      <th>4</th>\n",
       "      <td>0.06905</td>\n",
       "      <td>0.0</td>\n",
       "      <td>2.18</td>\n",
       "      <td>0</td>\n",
       "      <td>0.458</td>\n",
       "      <td>7.147</td>\n",
       "      <td>54.2</td>\n",
       "      <td>6.0622</td>\n",
       "      <td>3</td>\n",
       "      <td>222</td>\n",
       "      <td>18.7</td>\n",
       "      <td>396.90</td>\n",
       "      <td>5.33</td>\n",
       "      <td>36.2</td>\n",
       "    </tr>\n",
       "  </tbody>\n",
       "</table>\n",
       "</div>"
      ],
      "text/plain": [
       "      crim    zn  indus  chas    nox     rm   age     dis  rad  tax  ptratio  \\\n",
       "0  0.00632  18.0   2.31     0  0.538  6.575  65.2  4.0900    1  296     15.3   \n",
       "1  0.02731   0.0   7.07     0  0.469  6.421  78.9  4.9671    2  242     17.8   \n",
       "2  0.02729   0.0   7.07     0  0.469  7.185  61.1  4.9671    2  242     17.8   \n",
       "3  0.03237   0.0   2.18     0  0.458  6.998  45.8  6.0622    3  222     18.7   \n",
       "4  0.06905   0.0   2.18     0  0.458  7.147  54.2  6.0622    3  222     18.7   \n",
       "\n",
       "        b  lstat  medv  \n",
       "0  396.90   4.98  24.0  \n",
       "1  396.90   9.14  21.6  \n",
       "2  392.83   4.03  34.7  \n",
       "3  394.63   2.94  33.4  \n",
       "4  396.90   5.33  36.2  "
      ]
     },
     "execution_count": 3,
     "metadata": {},
     "output_type": "execute_result"
    }
   ],
   "source": [
    "data.head()"
   ]
  },
  {
   "cell_type": "markdown",
   "id": "9a26b60f",
   "metadata": {},
   "source": [
    "# DATA EXPLORATION"
   ]
  },
  {
   "cell_type": "markdown",
   "id": "5c6a5fe7",
   "metadata": {},
   "source": [
    "***Checking Shape***"
   ]
  },
  {
   "cell_type": "code",
   "execution_count": 4,
   "id": "24869bae",
   "metadata": {},
   "outputs": [
    {
     "data": {
      "text/plain": [
       "(506, 14)"
      ]
     },
     "execution_count": 4,
     "metadata": {},
     "output_type": "execute_result"
    }
   ],
   "source": [
    "data.shape"
   ]
  },
  {
   "cell_type": "markdown",
   "id": "63f16938",
   "metadata": {},
   "source": [
    "***Columns names***"
   ]
  },
  {
   "cell_type": "code",
   "execution_count": 5,
   "id": "fc7e3730",
   "metadata": {
    "scrolled": true
   },
   "outputs": [
    {
     "data": {
      "text/plain": [
       "Index(['crim', 'zn', 'indus', 'chas', 'nox', 'rm', 'age', 'dis', 'rad', 'tax',\n",
       "       'ptratio', 'b', 'lstat', 'medv'],\n",
       "      dtype='object')"
      ]
     },
     "execution_count": 5,
     "metadata": {},
     "output_type": "execute_result"
    }
   ],
   "source": [
    "data.columns"
   ]
  },
  {
   "cell_type": "markdown",
   "id": "225b8434",
   "metadata": {},
   "source": [
    "***Data Types***"
   ]
  },
  {
   "cell_type": "code",
   "execution_count": 6,
   "id": "2520a54c",
   "metadata": {
    "scrolled": true
   },
   "outputs": [
    {
     "data": {
      "text/plain": [
       "crim       float64\n",
       "zn         float64\n",
       "indus      float64\n",
       "chas         int64\n",
       "nox        float64\n",
       "rm         float64\n",
       "age        float64\n",
       "dis        float64\n",
       "rad          int64\n",
       "tax          int64\n",
       "ptratio    float64\n",
       "b          float64\n",
       "lstat      float64\n",
       "medv       float64\n",
       "dtype: object"
      ]
     },
     "execution_count": 6,
     "metadata": {},
     "output_type": "execute_result"
    }
   ],
   "source": [
    "data.dtypes"
   ]
  },
  {
   "cell_type": "markdown",
   "id": "9075f1cf",
   "metadata": {},
   "source": [
    "***Statical Summary***"
   ]
  },
  {
   "cell_type": "code",
   "execution_count": 7,
   "id": "40fae41d",
   "metadata": {},
   "outputs": [
    {
     "data": {
      "text/html": [
       "<div>\n",
       "<style scoped>\n",
       "    .dataframe tbody tr th:only-of-type {\n",
       "        vertical-align: middle;\n",
       "    }\n",
       "\n",
       "    .dataframe tbody tr th {\n",
       "        vertical-align: top;\n",
       "    }\n",
       "\n",
       "    .dataframe thead th {\n",
       "        text-align: right;\n",
       "    }\n",
       "</style>\n",
       "<table border=\"1\" class=\"dataframe\">\n",
       "  <thead>\n",
       "    <tr style=\"text-align: right;\">\n",
       "      <th></th>\n",
       "      <th>crim</th>\n",
       "      <th>zn</th>\n",
       "      <th>indus</th>\n",
       "      <th>chas</th>\n",
       "      <th>nox</th>\n",
       "      <th>rm</th>\n",
       "      <th>age</th>\n",
       "      <th>dis</th>\n",
       "      <th>rad</th>\n",
       "      <th>tax</th>\n",
       "      <th>ptratio</th>\n",
       "      <th>b</th>\n",
       "      <th>lstat</th>\n",
       "      <th>medv</th>\n",
       "    </tr>\n",
       "  </thead>\n",
       "  <tbody>\n",
       "    <tr>\n",
       "      <th>count</th>\n",
       "      <td>506.000000</td>\n",
       "      <td>506.000000</td>\n",
       "      <td>506.000000</td>\n",
       "      <td>506.000000</td>\n",
       "      <td>506.000000</td>\n",
       "      <td>506.000000</td>\n",
       "      <td>506.000000</td>\n",
       "      <td>506.000000</td>\n",
       "      <td>506.000000</td>\n",
       "      <td>506.000000</td>\n",
       "      <td>506.000000</td>\n",
       "      <td>506.000000</td>\n",
       "      <td>506.000000</td>\n",
       "      <td>506.000000</td>\n",
       "    </tr>\n",
       "    <tr>\n",
       "      <th>mean</th>\n",
       "      <td>3.613524</td>\n",
       "      <td>11.363636</td>\n",
       "      <td>11.136779</td>\n",
       "      <td>0.069170</td>\n",
       "      <td>0.554695</td>\n",
       "      <td>6.284634</td>\n",
       "      <td>68.574901</td>\n",
       "      <td>3.795043</td>\n",
       "      <td>9.549407</td>\n",
       "      <td>408.237154</td>\n",
       "      <td>18.455534</td>\n",
       "      <td>356.674032</td>\n",
       "      <td>12.653063</td>\n",
       "      <td>22.532806</td>\n",
       "    </tr>\n",
       "    <tr>\n",
       "      <th>std</th>\n",
       "      <td>8.601545</td>\n",
       "      <td>23.322453</td>\n",
       "      <td>6.860353</td>\n",
       "      <td>0.253994</td>\n",
       "      <td>0.115878</td>\n",
       "      <td>0.702617</td>\n",
       "      <td>28.148861</td>\n",
       "      <td>2.105710</td>\n",
       "      <td>8.707259</td>\n",
       "      <td>168.537116</td>\n",
       "      <td>2.164946</td>\n",
       "      <td>91.294864</td>\n",
       "      <td>7.141062</td>\n",
       "      <td>9.197104</td>\n",
       "    </tr>\n",
       "    <tr>\n",
       "      <th>min</th>\n",
       "      <td>0.006320</td>\n",
       "      <td>0.000000</td>\n",
       "      <td>0.460000</td>\n",
       "      <td>0.000000</td>\n",
       "      <td>0.385000</td>\n",
       "      <td>3.561000</td>\n",
       "      <td>2.900000</td>\n",
       "      <td>1.129600</td>\n",
       "      <td>1.000000</td>\n",
       "      <td>187.000000</td>\n",
       "      <td>12.600000</td>\n",
       "      <td>0.320000</td>\n",
       "      <td>1.730000</td>\n",
       "      <td>5.000000</td>\n",
       "    </tr>\n",
       "    <tr>\n",
       "      <th>25%</th>\n",
       "      <td>0.082045</td>\n",
       "      <td>0.000000</td>\n",
       "      <td>5.190000</td>\n",
       "      <td>0.000000</td>\n",
       "      <td>0.449000</td>\n",
       "      <td>5.885500</td>\n",
       "      <td>45.025000</td>\n",
       "      <td>2.100175</td>\n",
       "      <td>4.000000</td>\n",
       "      <td>279.000000</td>\n",
       "      <td>17.400000</td>\n",
       "      <td>375.377500</td>\n",
       "      <td>6.950000</td>\n",
       "      <td>17.025000</td>\n",
       "    </tr>\n",
       "    <tr>\n",
       "      <th>50%</th>\n",
       "      <td>0.256510</td>\n",
       "      <td>0.000000</td>\n",
       "      <td>9.690000</td>\n",
       "      <td>0.000000</td>\n",
       "      <td>0.538000</td>\n",
       "      <td>6.208500</td>\n",
       "      <td>77.500000</td>\n",
       "      <td>3.207450</td>\n",
       "      <td>5.000000</td>\n",
       "      <td>330.000000</td>\n",
       "      <td>19.050000</td>\n",
       "      <td>391.440000</td>\n",
       "      <td>11.360000</td>\n",
       "      <td>21.200000</td>\n",
       "    </tr>\n",
       "    <tr>\n",
       "      <th>75%</th>\n",
       "      <td>3.677083</td>\n",
       "      <td>12.500000</td>\n",
       "      <td>18.100000</td>\n",
       "      <td>0.000000</td>\n",
       "      <td>0.624000</td>\n",
       "      <td>6.623500</td>\n",
       "      <td>94.075000</td>\n",
       "      <td>5.188425</td>\n",
       "      <td>24.000000</td>\n",
       "      <td>666.000000</td>\n",
       "      <td>20.200000</td>\n",
       "      <td>396.225000</td>\n",
       "      <td>16.955000</td>\n",
       "      <td>25.000000</td>\n",
       "    </tr>\n",
       "    <tr>\n",
       "      <th>max</th>\n",
       "      <td>88.976200</td>\n",
       "      <td>100.000000</td>\n",
       "      <td>27.740000</td>\n",
       "      <td>1.000000</td>\n",
       "      <td>0.871000</td>\n",
       "      <td>8.780000</td>\n",
       "      <td>100.000000</td>\n",
       "      <td>12.126500</td>\n",
       "      <td>24.000000</td>\n",
       "      <td>711.000000</td>\n",
       "      <td>22.000000</td>\n",
       "      <td>396.900000</td>\n",
       "      <td>37.970000</td>\n",
       "      <td>50.000000</td>\n",
       "    </tr>\n",
       "  </tbody>\n",
       "</table>\n",
       "</div>"
      ],
      "text/plain": [
       "             crim          zn       indus        chas         nox          rm  \\\n",
       "count  506.000000  506.000000  506.000000  506.000000  506.000000  506.000000   \n",
       "mean     3.613524   11.363636   11.136779    0.069170    0.554695    6.284634   \n",
       "std      8.601545   23.322453    6.860353    0.253994    0.115878    0.702617   \n",
       "min      0.006320    0.000000    0.460000    0.000000    0.385000    3.561000   \n",
       "25%      0.082045    0.000000    5.190000    0.000000    0.449000    5.885500   \n",
       "50%      0.256510    0.000000    9.690000    0.000000    0.538000    6.208500   \n",
       "75%      3.677083   12.500000   18.100000    0.000000    0.624000    6.623500   \n",
       "max     88.976200  100.000000   27.740000    1.000000    0.871000    8.780000   \n",
       "\n",
       "              age         dis         rad         tax     ptratio           b  \\\n",
       "count  506.000000  506.000000  506.000000  506.000000  506.000000  506.000000   \n",
       "mean    68.574901    3.795043    9.549407  408.237154   18.455534  356.674032   \n",
       "std     28.148861    2.105710    8.707259  168.537116    2.164946   91.294864   \n",
       "min      2.900000    1.129600    1.000000  187.000000   12.600000    0.320000   \n",
       "25%     45.025000    2.100175    4.000000  279.000000   17.400000  375.377500   \n",
       "50%     77.500000    3.207450    5.000000  330.000000   19.050000  391.440000   \n",
       "75%     94.075000    5.188425   24.000000  666.000000   20.200000  396.225000   \n",
       "max    100.000000   12.126500   24.000000  711.000000   22.000000  396.900000   \n",
       "\n",
       "            lstat        medv  \n",
       "count  506.000000  506.000000  \n",
       "mean    12.653063   22.532806  \n",
       "std      7.141062    9.197104  \n",
       "min      1.730000    5.000000  \n",
       "25%      6.950000   17.025000  \n",
       "50%     11.360000   21.200000  \n",
       "75%     16.955000   25.000000  \n",
       "max     37.970000   50.000000  "
      ]
     },
     "execution_count": 7,
     "metadata": {},
     "output_type": "execute_result"
    }
   ],
   "source": [
    "data.describe()"
   ]
  },
  {
   "cell_type": "markdown",
   "id": "070162ca",
   "metadata": {},
   "source": [
    "***Checking Missing Values***"
   ]
  },
  {
   "cell_type": "code",
   "execution_count": 8,
   "id": "26308fe9",
   "metadata": {
    "scrolled": true
   },
   "outputs": [
    {
     "data": {
      "text/plain": [
       "crim       0\n",
       "zn         0\n",
       "indus      0\n",
       "chas       0\n",
       "nox        0\n",
       "rm         0\n",
       "age        0\n",
       "dis        0\n",
       "rad        0\n",
       "tax        0\n",
       "ptratio    0\n",
       "b          0\n",
       "lstat      0\n",
       "medv       0\n",
       "dtype: int64"
      ]
     },
     "execution_count": 8,
     "metadata": {},
     "output_type": "execute_result"
    }
   ],
   "source": [
    "data.isnull().sum()"
   ]
  },
  {
   "cell_type": "markdown",
   "id": "c21fec3c",
   "metadata": {},
   "source": [
    "# DATA MANIPULATION"
   ]
  },
  {
   "cell_type": "markdown",
   "id": "a5fe3156",
   "metadata": {},
   "source": [
    "***Adding a new column to the DataFrame that categorizes the 'medv' column into 'Low' , 'Medium' and 'High'.***"
   ]
  },
  {
   "cell_type": "code",
   "execution_count": 9,
   "id": "bb732c7c",
   "metadata": {},
   "outputs": [],
   "source": [
    "data['medv'] = pd.cut(data['medv'], bins=[0,15,30,50], labels=['Low', 'Medium', 'High'])\n"
   ]
  },
  {
   "cell_type": "code",
   "execution_count": 16,
   "id": "34e0f64d",
   "metadata": {},
   "outputs": [
    {
     "data": {
      "text/html": [
       "<div>\n",
       "<style scoped>\n",
       "    .dataframe tbody tr th:only-of-type {\n",
       "        vertical-align: middle;\n",
       "    }\n",
       "\n",
       "    .dataframe tbody tr th {\n",
       "        vertical-align: top;\n",
       "    }\n",
       "\n",
       "    .dataframe thead th {\n",
       "        text-align: right;\n",
       "    }\n",
       "</style>\n",
       "<table border=\"1\" class=\"dataframe\">\n",
       "  <thead>\n",
       "    <tr style=\"text-align: right;\">\n",
       "      <th></th>\n",
       "      <th>crim</th>\n",
       "      <th>zn</th>\n",
       "      <th>indus</th>\n",
       "      <th>chas</th>\n",
       "      <th>nox</th>\n",
       "      <th>rooms</th>\n",
       "      <th>age</th>\n",
       "      <th>dis</th>\n",
       "      <th>rad</th>\n",
       "      <th>tax</th>\n",
       "      <th>ptratio</th>\n",
       "      <th>b</th>\n",
       "      <th>lstat</th>\n",
       "      <th>medv</th>\n",
       "    </tr>\n",
       "  </thead>\n",
       "  <tbody>\n",
       "    <tr>\n",
       "      <th>0</th>\n",
       "      <td>0.00632</td>\n",
       "      <td>18.0</td>\n",
       "      <td>2.31</td>\n",
       "      <td>No</td>\n",
       "      <td>0.538</td>\n",
       "      <td>6.575</td>\n",
       "      <td>65.2</td>\n",
       "      <td>4.0900</td>\n",
       "      <td>1</td>\n",
       "      <td>296</td>\n",
       "      <td>15.3</td>\n",
       "      <td>396.90</td>\n",
       "      <td>4.98</td>\n",
       "      <td>Medium</td>\n",
       "    </tr>\n",
       "    <tr>\n",
       "      <th>1</th>\n",
       "      <td>0.02731</td>\n",
       "      <td>0.0</td>\n",
       "      <td>7.07</td>\n",
       "      <td>No</td>\n",
       "      <td>0.469</td>\n",
       "      <td>6.421</td>\n",
       "      <td>78.9</td>\n",
       "      <td>4.9671</td>\n",
       "      <td>2</td>\n",
       "      <td>242</td>\n",
       "      <td>17.8</td>\n",
       "      <td>396.90</td>\n",
       "      <td>9.14</td>\n",
       "      <td>Medium</td>\n",
       "    </tr>\n",
       "    <tr>\n",
       "      <th>2</th>\n",
       "      <td>0.02729</td>\n",
       "      <td>0.0</td>\n",
       "      <td>7.07</td>\n",
       "      <td>No</td>\n",
       "      <td>0.469</td>\n",
       "      <td>7.185</td>\n",
       "      <td>61.1</td>\n",
       "      <td>4.9671</td>\n",
       "      <td>2</td>\n",
       "      <td>242</td>\n",
       "      <td>17.8</td>\n",
       "      <td>392.83</td>\n",
       "      <td>4.03</td>\n",
       "      <td>High</td>\n",
       "    </tr>\n",
       "    <tr>\n",
       "      <th>3</th>\n",
       "      <td>0.03237</td>\n",
       "      <td>0.0</td>\n",
       "      <td>2.18</td>\n",
       "      <td>No</td>\n",
       "      <td>0.458</td>\n",
       "      <td>6.998</td>\n",
       "      <td>45.8</td>\n",
       "      <td>6.0622</td>\n",
       "      <td>3</td>\n",
       "      <td>222</td>\n",
       "      <td>18.7</td>\n",
       "      <td>394.63</td>\n",
       "      <td>2.94</td>\n",
       "      <td>High</td>\n",
       "    </tr>\n",
       "    <tr>\n",
       "      <th>4</th>\n",
       "      <td>0.06905</td>\n",
       "      <td>0.0</td>\n",
       "      <td>2.18</td>\n",
       "      <td>No</td>\n",
       "      <td>0.458</td>\n",
       "      <td>7.147</td>\n",
       "      <td>54.2</td>\n",
       "      <td>6.0622</td>\n",
       "      <td>3</td>\n",
       "      <td>222</td>\n",
       "      <td>18.7</td>\n",
       "      <td>396.90</td>\n",
       "      <td>5.33</td>\n",
       "      <td>High</td>\n",
       "    </tr>\n",
       "  </tbody>\n",
       "</table>\n",
       "</div>"
      ],
      "text/plain": [
       "      crim    zn  indus chas    nox  rooms   age     dis  rad  tax  ptratio  \\\n",
       "0  0.00632  18.0   2.31   No  0.538  6.575  65.2  4.0900    1  296     15.3   \n",
       "1  0.02731   0.0   7.07   No  0.469  6.421  78.9  4.9671    2  242     17.8   \n",
       "2  0.02729   0.0   7.07   No  0.469  7.185  61.1  4.9671    2  242     17.8   \n",
       "3  0.03237   0.0   2.18   No  0.458  6.998  45.8  6.0622    3  222     18.7   \n",
       "4  0.06905   0.0   2.18   No  0.458  7.147  54.2  6.0622    3  222     18.7   \n",
       "\n",
       "        b  lstat    medv  \n",
       "0  396.90   4.98  Medium  \n",
       "1  396.90   9.14  Medium  \n",
       "2  392.83   4.03    High  \n",
       "3  394.63   2.94    High  \n",
       "4  396.90   5.33    High  "
      ]
     },
     "execution_count": 16,
     "metadata": {},
     "output_type": "execute_result"
    }
   ],
   "source": [
    "data.head()"
   ]
  },
  {
   "cell_type": "markdown",
   "id": "283c3043",
   "metadata": {},
   "source": [
    "***Replacing the 'chas' column with 'Yes' if chas = 1 and 'No' if chas = 0.***"
   ]
  },
  {
   "cell_type": "code",
   "execution_count": 10,
   "id": "33fc307d",
   "metadata": {},
   "outputs": [],
   "source": [
    "data['chas'] = data['chas'].replace({1:'Yes',0:'No'})"
   ]
  },
  {
   "cell_type": "code",
   "execution_count": 17,
   "id": "18944e98",
   "metadata": {},
   "outputs": [
    {
     "data": {
      "text/html": [
       "<div>\n",
       "<style scoped>\n",
       "    .dataframe tbody tr th:only-of-type {\n",
       "        vertical-align: middle;\n",
       "    }\n",
       "\n",
       "    .dataframe tbody tr th {\n",
       "        vertical-align: top;\n",
       "    }\n",
       "\n",
       "    .dataframe thead th {\n",
       "        text-align: right;\n",
       "    }\n",
       "</style>\n",
       "<table border=\"1\" class=\"dataframe\">\n",
       "  <thead>\n",
       "    <tr style=\"text-align: right;\">\n",
       "      <th></th>\n",
       "      <th>crim</th>\n",
       "      <th>zn</th>\n",
       "      <th>indus</th>\n",
       "      <th>chas</th>\n",
       "      <th>nox</th>\n",
       "      <th>rooms</th>\n",
       "      <th>age</th>\n",
       "      <th>dis</th>\n",
       "      <th>rad</th>\n",
       "      <th>tax</th>\n",
       "      <th>ptratio</th>\n",
       "      <th>b</th>\n",
       "      <th>lstat</th>\n",
       "      <th>medv</th>\n",
       "    </tr>\n",
       "  </thead>\n",
       "  <tbody>\n",
       "    <tr>\n",
       "      <th>0</th>\n",
       "      <td>0.00632</td>\n",
       "      <td>18.0</td>\n",
       "      <td>2.31</td>\n",
       "      <td>No</td>\n",
       "      <td>0.538</td>\n",
       "      <td>6.575</td>\n",
       "      <td>65.2</td>\n",
       "      <td>4.0900</td>\n",
       "      <td>1</td>\n",
       "      <td>296</td>\n",
       "      <td>15.3</td>\n",
       "      <td>396.90</td>\n",
       "      <td>4.98</td>\n",
       "      <td>Medium</td>\n",
       "    </tr>\n",
       "    <tr>\n",
       "      <th>1</th>\n",
       "      <td>0.02731</td>\n",
       "      <td>0.0</td>\n",
       "      <td>7.07</td>\n",
       "      <td>No</td>\n",
       "      <td>0.469</td>\n",
       "      <td>6.421</td>\n",
       "      <td>78.9</td>\n",
       "      <td>4.9671</td>\n",
       "      <td>2</td>\n",
       "      <td>242</td>\n",
       "      <td>17.8</td>\n",
       "      <td>396.90</td>\n",
       "      <td>9.14</td>\n",
       "      <td>Medium</td>\n",
       "    </tr>\n",
       "    <tr>\n",
       "      <th>2</th>\n",
       "      <td>0.02729</td>\n",
       "      <td>0.0</td>\n",
       "      <td>7.07</td>\n",
       "      <td>No</td>\n",
       "      <td>0.469</td>\n",
       "      <td>7.185</td>\n",
       "      <td>61.1</td>\n",
       "      <td>4.9671</td>\n",
       "      <td>2</td>\n",
       "      <td>242</td>\n",
       "      <td>17.8</td>\n",
       "      <td>392.83</td>\n",
       "      <td>4.03</td>\n",
       "      <td>High</td>\n",
       "    </tr>\n",
       "    <tr>\n",
       "      <th>3</th>\n",
       "      <td>0.03237</td>\n",
       "      <td>0.0</td>\n",
       "      <td>2.18</td>\n",
       "      <td>No</td>\n",
       "      <td>0.458</td>\n",
       "      <td>6.998</td>\n",
       "      <td>45.8</td>\n",
       "      <td>6.0622</td>\n",
       "      <td>3</td>\n",
       "      <td>222</td>\n",
       "      <td>18.7</td>\n",
       "      <td>394.63</td>\n",
       "      <td>2.94</td>\n",
       "      <td>High</td>\n",
       "    </tr>\n",
       "    <tr>\n",
       "      <th>4</th>\n",
       "      <td>0.06905</td>\n",
       "      <td>0.0</td>\n",
       "      <td>2.18</td>\n",
       "      <td>No</td>\n",
       "      <td>0.458</td>\n",
       "      <td>7.147</td>\n",
       "      <td>54.2</td>\n",
       "      <td>6.0622</td>\n",
       "      <td>3</td>\n",
       "      <td>222</td>\n",
       "      <td>18.7</td>\n",
       "      <td>396.90</td>\n",
       "      <td>5.33</td>\n",
       "      <td>High</td>\n",
       "    </tr>\n",
       "  </tbody>\n",
       "</table>\n",
       "</div>"
      ],
      "text/plain": [
       "      crim    zn  indus chas    nox  rooms   age     dis  rad  tax  ptratio  \\\n",
       "0  0.00632  18.0   2.31   No  0.538  6.575  65.2  4.0900    1  296     15.3   \n",
       "1  0.02731   0.0   7.07   No  0.469  6.421  78.9  4.9671    2  242     17.8   \n",
       "2  0.02729   0.0   7.07   No  0.469  7.185  61.1  4.9671    2  242     17.8   \n",
       "3  0.03237   0.0   2.18   No  0.458  6.998  45.8  6.0622    3  222     18.7   \n",
       "4  0.06905   0.0   2.18   No  0.458  7.147  54.2  6.0622    3  222     18.7   \n",
       "\n",
       "        b  lstat    medv  \n",
       "0  396.90   4.98  Medium  \n",
       "1  396.90   9.14  Medium  \n",
       "2  392.83   4.03    High  \n",
       "3  394.63   2.94    High  \n",
       "4  396.90   5.33    High  "
      ]
     },
     "execution_count": 17,
     "metadata": {},
     "output_type": "execute_result"
    }
   ],
   "source": [
    "data.head()"
   ]
  },
  {
   "cell_type": "markdown",
   "id": "def79530",
   "metadata": {},
   "source": [
    "***Renaming 'rm' to 'rooms'.***"
   ]
  },
  {
   "cell_type": "code",
   "execution_count": 12,
   "id": "e526732d",
   "metadata": {},
   "outputs": [],
   "source": [
    "data = data.rename(columns={'rm':'rooms'})"
   ]
  },
  {
   "cell_type": "code",
   "execution_count": 18,
   "id": "78e2510a",
   "metadata": {},
   "outputs": [
    {
     "data": {
      "text/html": [
       "<div>\n",
       "<style scoped>\n",
       "    .dataframe tbody tr th:only-of-type {\n",
       "        vertical-align: middle;\n",
       "    }\n",
       "\n",
       "    .dataframe tbody tr th {\n",
       "        vertical-align: top;\n",
       "    }\n",
       "\n",
       "    .dataframe thead th {\n",
       "        text-align: right;\n",
       "    }\n",
       "</style>\n",
       "<table border=\"1\" class=\"dataframe\">\n",
       "  <thead>\n",
       "    <tr style=\"text-align: right;\">\n",
       "      <th></th>\n",
       "      <th>crim</th>\n",
       "      <th>zn</th>\n",
       "      <th>indus</th>\n",
       "      <th>chas</th>\n",
       "      <th>nox</th>\n",
       "      <th>rooms</th>\n",
       "      <th>age</th>\n",
       "      <th>dis</th>\n",
       "      <th>rad</th>\n",
       "      <th>tax</th>\n",
       "      <th>ptratio</th>\n",
       "      <th>b</th>\n",
       "      <th>lstat</th>\n",
       "      <th>medv</th>\n",
       "    </tr>\n",
       "  </thead>\n",
       "  <tbody>\n",
       "    <tr>\n",
       "      <th>0</th>\n",
       "      <td>0.00632</td>\n",
       "      <td>18.0</td>\n",
       "      <td>2.31</td>\n",
       "      <td>No</td>\n",
       "      <td>0.538</td>\n",
       "      <td>6.575</td>\n",
       "      <td>65.2</td>\n",
       "      <td>4.0900</td>\n",
       "      <td>1</td>\n",
       "      <td>296</td>\n",
       "      <td>15.3</td>\n",
       "      <td>396.90</td>\n",
       "      <td>4.98</td>\n",
       "      <td>Medium</td>\n",
       "    </tr>\n",
       "    <tr>\n",
       "      <th>1</th>\n",
       "      <td>0.02731</td>\n",
       "      <td>0.0</td>\n",
       "      <td>7.07</td>\n",
       "      <td>No</td>\n",
       "      <td>0.469</td>\n",
       "      <td>6.421</td>\n",
       "      <td>78.9</td>\n",
       "      <td>4.9671</td>\n",
       "      <td>2</td>\n",
       "      <td>242</td>\n",
       "      <td>17.8</td>\n",
       "      <td>396.90</td>\n",
       "      <td>9.14</td>\n",
       "      <td>Medium</td>\n",
       "    </tr>\n",
       "    <tr>\n",
       "      <th>2</th>\n",
       "      <td>0.02729</td>\n",
       "      <td>0.0</td>\n",
       "      <td>7.07</td>\n",
       "      <td>No</td>\n",
       "      <td>0.469</td>\n",
       "      <td>7.185</td>\n",
       "      <td>61.1</td>\n",
       "      <td>4.9671</td>\n",
       "      <td>2</td>\n",
       "      <td>242</td>\n",
       "      <td>17.8</td>\n",
       "      <td>392.83</td>\n",
       "      <td>4.03</td>\n",
       "      <td>High</td>\n",
       "    </tr>\n",
       "    <tr>\n",
       "      <th>3</th>\n",
       "      <td>0.03237</td>\n",
       "      <td>0.0</td>\n",
       "      <td>2.18</td>\n",
       "      <td>No</td>\n",
       "      <td>0.458</td>\n",
       "      <td>6.998</td>\n",
       "      <td>45.8</td>\n",
       "      <td>6.0622</td>\n",
       "      <td>3</td>\n",
       "      <td>222</td>\n",
       "      <td>18.7</td>\n",
       "      <td>394.63</td>\n",
       "      <td>2.94</td>\n",
       "      <td>High</td>\n",
       "    </tr>\n",
       "    <tr>\n",
       "      <th>4</th>\n",
       "      <td>0.06905</td>\n",
       "      <td>0.0</td>\n",
       "      <td>2.18</td>\n",
       "      <td>No</td>\n",
       "      <td>0.458</td>\n",
       "      <td>7.147</td>\n",
       "      <td>54.2</td>\n",
       "      <td>6.0622</td>\n",
       "      <td>3</td>\n",
       "      <td>222</td>\n",
       "      <td>18.7</td>\n",
       "      <td>396.90</td>\n",
       "      <td>5.33</td>\n",
       "      <td>High</td>\n",
       "    </tr>\n",
       "  </tbody>\n",
       "</table>\n",
       "</div>"
      ],
      "text/plain": [
       "      crim    zn  indus chas    nox  rooms   age     dis  rad  tax  ptratio  \\\n",
       "0  0.00632  18.0   2.31   No  0.538  6.575  65.2  4.0900    1  296     15.3   \n",
       "1  0.02731   0.0   7.07   No  0.469  6.421  78.9  4.9671    2  242     17.8   \n",
       "2  0.02729   0.0   7.07   No  0.469  7.185  61.1  4.9671    2  242     17.8   \n",
       "3  0.03237   0.0   2.18   No  0.458  6.998  45.8  6.0622    3  222     18.7   \n",
       "4  0.06905   0.0   2.18   No  0.458  7.147  54.2  6.0622    3  222     18.7   \n",
       "\n",
       "        b  lstat    medv  \n",
       "0  396.90   4.98  Medium  \n",
       "1  396.90   9.14  Medium  \n",
       "2  392.83   4.03    High  \n",
       "3  394.63   2.94    High  \n",
       "4  396.90   5.33    High  "
      ]
     },
     "execution_count": 18,
     "metadata": {},
     "output_type": "execute_result"
    }
   ],
   "source": [
    "data.head()"
   ]
  },
  {
   "cell_type": "markdown",
   "id": "f4d73c69",
   "metadata": {},
   "source": [
    "# DATA ANALYSIS"
   ]
  },
  {
   "cell_type": "markdown",
   "id": "ec7a33f9",
   "metadata": {},
   "source": [
    "***Average number of rooms per dwelling for each category of medv.***"
   ]
  },
  {
   "cell_type": "code",
   "execution_count": 20,
   "id": "f639eacd",
   "metadata": {},
   "outputs": [],
   "source": [
    "room_medv = data.groupby('medv')['rooms'].mean()"
   ]
  },
  {
   "cell_type": "code",
   "execution_count": 21,
   "id": "09e4dab4",
   "metadata": {},
   "outputs": [
    {
     "data": {
      "text/plain": [
       "medv\n",
       "Low       5.878371\n",
       "Medium    6.145129\n",
       "High      7.293524\n",
       "Name: rooms, dtype: float64"
      ]
     },
     "execution_count": 21,
     "metadata": {},
     "output_type": "execute_result"
    }
   ],
   "source": [
    "room_medv"
   ]
  },
  {
   "cell_type": "markdown",
   "id": "95427ee0",
   "metadata": {},
   "source": [
    "***Percentage of houses that bound the Charles River.***"
   ]
  },
  {
   "cell_type": "code",
   "execution_count": 14,
   "id": "31ad826e",
   "metadata": {},
   "outputs": [],
   "source": [
    "charles_percentage = data['chas'].value_counts(normalize=True)*100"
   ]
  },
  {
   "cell_type": "code",
   "execution_count": 15,
   "id": "980bdd07",
   "metadata": {},
   "outputs": [
    {
     "data": {
      "text/plain": [
       "No     93.083004\n",
       "Yes     6.916996\n",
       "Name: chas, dtype: float64"
      ]
     },
     "execution_count": 15,
     "metadata": {},
     "output_type": "execute_result"
    }
   ],
   "source": [
    "charles_percentage"
   ]
  },
  {
   "cell_type": "markdown",
   "id": "94a056da",
   "metadata": {},
   "source": [
    "# NUMPY OPERATION"
   ]
  },
  {
   "cell_type": "markdown",
   "id": "66580085",
   "metadata": {},
   "source": [
    "***Converting 'age' column to a NumPy array*** "
   ]
  },
  {
   "cell_type": "markdown",
   "id": "3bed6775",
   "metadata": {},
   "source": [
    "***Computeing the mean and standard deviation***"
   ]
  },
  {
   "cell_type": "code",
   "execution_count": 22,
   "id": "47e12e2d",
   "metadata": {},
   "outputs": [],
   "source": [
    "age_array = data['age'].values\n",
    "\n",
    "mean_age = np.mean(age_array)\n",
    "std_age = np.std(age_array)"
   ]
  },
  {
   "cell_type": "code",
   "execution_count": 23,
   "id": "26df99ed",
   "metadata": {},
   "outputs": [
    {
     "name": "stdout",
     "output_type": "stream",
     "text": [
      "Mean: 68.57490118577076\n",
      "Standard Deviation: 28.121032570236867\n"
     ]
    }
   ],
   "source": [
    "print(\"Mean:\",mean_age)\n",
    "print(\"Standard Deviation:\",std_age)"
   ]
  },
  {
   "cell_type": "markdown",
   "id": "2ec2eeb8",
   "metadata": {},
   "source": [
    "***Normalizing the array.***"
   ]
  },
  {
   "cell_type": "code",
   "execution_count": 24,
   "id": "36c51a40",
   "metadata": {},
   "outputs": [
    {
     "name": "stdout",
     "output_type": "stream",
     "text": [
      "Normalized Age Array: [-0.12001342  0.36716642 -0.26581176 -0.80988851 -0.51117971 -0.35115713\n",
      " -0.07022862  0.97880825  1.11749449  0.61609042  0.91479923  0.50940871\n",
      " -1.0517004  -0.24091936  0.56630562 -0.42939039 -1.39663795  0.46673602\n",
      " -1.13704577  0.03289704  1.0499294   0.73344031  0.82234174  1.11749449\n",
      "  0.90768711  0.60897831  0.77255694  0.71921608  0.91835528  0.66587522\n",
      "  0.90768711  1.11749449  0.47740419  0.93969163  1.00725671 -0.0133317\n",
      " -0.25514359 -0.96279897 -1.36463343 -1.66334224 -1.87670567 -2.33543704\n",
      " -2.20386293 -2.20741899 -1.01613983 -1.23661537 -1.25439566  0.60186619\n",
      "  0.9503598  -0.23380725 -0.81344457 -0.19824667 -1.68823464 -1.67756646\n",
      " -0.74587948 -1.65978618 -1.16905029 -0.99835954 -1.400194   -0.76010371\n",
      " -0.08445284  0.88279471 -0.02755593 -0.89523388 -0.32270868 -1.80558452\n",
      " -1.33262892 -1.67756646 -1.12993366 -1.26506383 -2.20386293 -1.81625269\n",
      " -2.16119024 -2.21808716 -2.22519927 -0.83833697  0.2106999  -0.80988851\n",
      " -0.52895999 -1.13704577 -1.24728354  0.06490156 -1.29351229 -0.777884\n",
      " -0.73165525 -0.44361462 -0.83478091 -0.41872222  0.63031465 -0.19469062\n",
      " -0.0880089   0.18936356 -0.53251605 -1.41086218  0.3102695  -0.38316165\n",
      "  0.0364531   0.26404076 -1.1263776  -0.21602696  0.40272699  0.09690607\n",
      "  0.59831014  0.66943128  0.76188877  1.0001446   0.82945385  0.59119802\n",
      "  1.01436883  0.80456145 -0.50406759  0.46317996  0.86501442  0.95391585\n",
      "  0.55563745  0.69787974  0.13957876  0.49874053  0.1609151  -0.12001342\n",
      "  0.04000916  0.55208139  0.86501442  1.01081277  0.96814008  0.70499185\n",
      "  0.96102797  0.9752522   1.0748218   0.92902345  1.07837786  1.03570517\n",
      "  1.04281728  0.95391585  1.06059757  1.05348546  0.88635077  1.06059757\n",
      "  1.05348546  1.04281728  0.88990683  1.11749449  1.11749449  1.11749449\n",
      "  1.03926123  1.11749449  1.11749449  0.96458403  0.89701894  0.93613557\n",
      "  1.02148094  1.11749449  0.69076762  1.06415363  0.9752522   0.49874053\n",
      "  0.90413105  1.025037    1.11749449  1.11749449  0.85434625  0.79033722\n",
      "  1.05348546  0.900575    0.8258978   0.86857048  0.98236431  0.37783459\n",
      "  0.97880825  0.94680374  0.9254674   1.02148094  0.70854791  0.55208139\n",
      "  0.00444859 -1.26150777 -0.76010371  0.17158327  0.20714385 -0.3618253\n",
      "  0.52363293 -0.22669513  0.84012202  0.96102797  0.75477665  0.00800464\n",
      " -0.53251605 -0.9770232  -1.40375006 -1.05525646 -1.67401041 -1.34329709\n",
      " -1.50331966 -2.08651304 -1.77002395 -1.3006244  -1.2259472  -1.13704577\n",
      " -1.0765928  -1.89448595 -1.94427075 -1.07303674 -1.88026172 -1.25795172\n",
      " -1.30418046 -1.64556195 -0.57163268  0.14669087 -0.3369329   1.11749449\n",
      "  0.83656597  0.71210397 -0.52540394 -1.28995623 -2.0900691  -0.93079446\n",
      " -0.44717068  0.58764196  0.89701894  0.84723414  0.70854791  0.80811751\n",
      "  0.32449373  0.43473151  0.34583008  0.51296476  0.63742676  0.40272699\n",
      " -1.83403298 -1.67756646 -0.01688776  0.29604527  0.16802722  0.06490156\n",
      " -0.07378467 -0.25158753  0.28182105  0.10757424 -1.78069212 -0.93790657\n",
      " -0.50762365 -0.12356947 -0.55740845 -2.16119024  0.28182105  0.05778944\n",
      " -1.19749874  0.37783459 -0.69253862 -1.81625269 -1.97627527 -2.12207361\n",
      " -2.19675081 -2.1398539  -1.3006244  -1.75935578 -1.22239114  0.65165099\n",
      "  1.11749449  1.11749449  0.47029208  0.74055242  0.81522962  0.92191134\n",
      "  0.81878568 -0.20535879  0.56986168 -0.05600439 -0.56807662 -0.25158753\n",
      " -0.94146263 -1.85892538 -0.35115713 -0.59652508 -1.26861989 -0.91657023\n",
      " -0.69609468 -1.45709092 -1.29706835 -1.29351229 -0.14490582 -1.11570943\n",
      " -0.67120228 -1.55666052 -1.69890281 -1.30418046 -1.31840469 -1.3255168\n",
      " -0.81700063 -1.62422561 -1.44642275 -1.45353486 -1.60644532 -1.78424818\n",
      " -0.93435051 -1.33262892 -0.62497354 -0.37604953 -1.72379521 -2.08295698\n",
      " -0.7529916  -1.0019156  -1.78424818 -1.80914058 -0.9770232  -0.37249348\n",
      "  0.11824242  0.0613455   0.49518448  0.28893316 -1.09437309 -0.56096451\n",
      "  0.776113    0.50585265  0.66587522  0.32449373  0.52007688  0.1111303\n",
      " -0.04889227 -0.34760108 -0.57874479 -0.50762365 -0.66409017  0.20358779\n",
      " -1.01258377 -1.9158223  -1.41086218 -0.88456571 -1.52109995 -1.82692087\n",
      " -1.29351229 -1.42864246 -1.61000138 -1.08370491 -1.06948069 -1.21172297\n",
      " -0.79210822 -0.31915262 -1.11215337 -0.82411274 -0.35826925 -0.68542651\n",
      " -0.31559656 -0.43294645 -1.43931063 -0.71387497 -0.57874479 -1.45353486\n",
      " -1.38241372 -1.21172297 -0.85967331 -1.16193817 -1.78069212 -1.15482606\n",
      " -1.65978618 -1.74513155  1.025037    0.79744934  0.52718899  0.45251179\n",
      "  0.69076762  0.8010054   0.98236431  0.72632819  0.50940871  0.68721157\n",
      "  0.81167357  1.11749449  1.11749449  1.00370066  1.02859306  1.11749449\n",
      "  0.74766454  1.11749449  1.11749449  1.04281728  0.87923865  1.0748218\n",
      "  0.98236431  1.11749449  0.82945385  1.08548997  1.11749449  1.11749449\n",
      "  0.80456145  1.0499294   1.11749449  0.74410848  1.11749449  1.07837786\n",
      "  1.01081277  0.49518448  1.01081277  0.85434625  0.92902345  1.0748218\n",
      "  0.9752522   1.07837786  1.11749449  0.32804979  1.11749449  1.11749449\n",
      "  1.11749449  0.9752522   0.59831014  1.11749449  1.11749449  1.11749449\n",
      "  1.04281728  1.11749449  1.11749449  1.11749449  1.11749449  1.11749449\n",
      "  1.11749449  1.11749449  0.79033722  0.72988425  1.11749449  0.28182105\n",
      "  1.11749449  0.9503598   0.67654339  0.58764196  0.07201367  0.95391585\n",
      " -0.31559656  0.3600543   0.33871796  0.96102797  0.62320254  0.91479923\n",
      "  0.22136807  0.68721157  0.93969163  0.9254674   0.87923865  1.11749449\n",
      "  0.68721157  0.900575    0.84723414  1.01792488  1.11749449  1.11749449\n",
      "  0.99658854  0.93257951  0.98947643  0.99658854  1.07126574  1.05704151\n",
      "  0.85434625  1.05348546  0.8258978   1.09260208  0.90768711  0.63742676\n",
      "  0.68721157  0.41695122  0.53785716  0.56274956  0.76188877  0.70499185\n",
      "  0.51296476  0.75833271 -0.1129013  -0.72454314  0.57341774  0.92191134\n",
      "  0.0862379  -0.42227828  0.54852534  0.78678117  0.22848019 -0.03466804\n",
      "  0.95391585  1.025037    0.88990683  1.02148094  1.0001446   0.69076762\n",
      " -0.1377937   0.22492413  0.29960133 -1.00547166 -0.94857474 -0.59296902\n",
      "  0.39917093 -0.54674028  0.85790231  1.05704151  1.04637334  1.0748218\n",
      "  0.53074505 -0.51829182 -0.92368234 -1.41441823  0.15380299  0.07201367\n",
      " -0.11645736  0.17513933  0.39561488  0.01867281  0.28893316  0.79744934\n",
      "  0.73699637  0.43473151]\n"
     ]
    }
   ],
   "source": [
    "normalized_age = (age_array - mean_age)/std_age\n",
    "print(\"Normalized Age Array:\",normalized_age)"
   ]
  },
  {
   "cell_type": "code",
   "execution_count": null,
   "id": "0eedf18e",
   "metadata": {},
   "outputs": [],
   "source": []
  }
 ],
 "metadata": {
  "kernelspec": {
   "display_name": "Python 3 (ipykernel)",
   "language": "python",
   "name": "python3"
  },
  "language_info": {
   "codemirror_mode": {
    "name": "ipython",
    "version": 3
   },
   "file_extension": ".py",
   "mimetype": "text/x-python",
   "name": "python",
   "nbconvert_exporter": "python",
   "pygments_lexer": "ipython3",
   "version": "3.11.4"
  }
 },
 "nbformat": 4,
 "nbformat_minor": 5
}
